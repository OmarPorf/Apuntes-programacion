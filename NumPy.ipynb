{
  "nbformat": 4,
  "nbformat_minor": 0,
  "metadata": {
    "colab": {
      "provenance": [],
      "authorship_tag": "ABX9TyNEU23fVUGN4n2R/L3Fkfs5",
      "include_colab_link": true
    },
    "kernelspec": {
      "name": "python3",
      "display_name": "Python 3"
    },
    "language_info": {
      "name": "python"
    }
  },
  "cells": [
    {
      "cell_type": "markdown",
      "metadata": {
        "id": "view-in-github",
        "colab_type": "text"
      },
      "source": [
        "<a href=\"https://colab.research.google.com/github/OmarPorf/Apuntes-programacion/blob/main/NumPy.ipynb\" target=\"_parent\"><img src=\"https://colab.research.google.com/assets/colab-badge.svg\" alt=\"Open In Colab\"/></a>"
      ]
    },
    {
      "cell_type": "markdown",
      "source": [
        "#`NumPy`\n",
        "\n",
        "Para hacer `arrays` en Python usamos el módulo `Numpy`\n",
        "\n"
      ],
      "metadata": {
        "id": "J0It6-J0GVAx"
      }
    },
    {
      "cell_type": "code",
      "source": [
        "import numpy as np\n",
        "\n",
        "#   Array de enteros\n",
        "\n",
        "a = np.array([1, 2, 3, 4, 5])\n",
        "\n",
        "print(a)"
      ],
      "metadata": {
        "colab": {
          "base_uri": "https://localhost:8080/",
          "height": 0
        },
        "id": "RpgKzbFmG8Bg",
        "outputId": "decc0479-98fb-4eab-b81a-bfdea2d04304"
      },
      "execution_count": 1,
      "outputs": [
        {
          "output_type": "stream",
          "name": "stdout",
          "text": [
            "[1 2 3 4 5]\n"
          ]
        }
      ]
    },
    {
      "cell_type": "markdown",
      "source": [
        "Algo importante que recalcar es que los arrays de `Numpy` son de ***elementos del mismo tipo***.\n",
        "\n",
        "Si se quiere dar explícitamente el tipo de dato de los elementos, usamos el párametro `dtype`."
      ],
      "metadata": {
        "id": "_SE8pPsMHPq3"
      }
    },
    {
      "cell_type": "code",
      "source": [
        "a = np.array([1, 2, 3, 4], dtype=\"float32\")\n",
        "\n",
        "print(a)"
      ],
      "metadata": {
        "colab": {
          "base_uri": "https://localhost:8080/",
          "height": 0
        },
        "id": "ghZuHVY6Hmq6",
        "outputId": "2dbfc306-9fe0-493c-a6c9-e878029e9c7b"
      },
      "execution_count": 2,
      "outputs": [
        {
          "output_type": "stream",
          "name": "stdout",
          "text": [
            "[1. 2. 3. 4.]\n"
          ]
        }
      ]
    },
    {
      "cell_type": "markdown",
      "source": [
        "Además, los arrays también pueden ser multidimensionales."
      ],
      "metadata": {
        "id": "aLqLPjhcIguF"
      }
    },
    {
      "cell_type": "code",
      "source": [
        "a = np.array([range(_, _ + 5) for _ in range(5)])\n",
        "\n",
        "print(a)"
      ],
      "metadata": {
        "colab": {
          "base_uri": "https://localhost:8080/",
          "height": 0
        },
        "id": "L-6296USInW9",
        "outputId": "e99777f9-f227-4a92-d950-c3857a0182be"
      },
      "execution_count": 4,
      "outputs": [
        {
          "output_type": "stream",
          "name": "stdout",
          "text": [
            "[[0 1 2 3 4]\n",
            " [1 2 3 4 5]\n",
            " [2 3 4 5 6]\n",
            " [3 4 5 6 7]\n",
            " [4 5 6 7 8]]\n"
          ]
        }
      ]
    },
    {
      "cell_type": "markdown",
      "source": [
        "\n",
        "\n",
        "---\n",
        "\n",
        "\n",
        "# Built-in arrays\n",
        "\n",
        "`Numpy` tiene arrays ya integrados que nos ayudan a generar arrays más eficaz y eficientemente.\n",
        "\n",
        "\n",
        "*   ***Array de solo ceros***\n",
        "\n",
        "Para hacer un array de solo ceros se usa el método `zeros`."
      ],
      "metadata": {
        "id": "nGdIx1DhJB1S"
      }
    },
    {
      "cell_type": "code",
      "source": [
        "#   Arreglo de 10 ceros de tipo int\n",
        "a = np.zeros(10, dtype=int)\n",
        "\n",
        "print(a)"
      ],
      "metadata": {
        "colab": {
          "base_uri": "https://localhost:8080/",
          "height": 0
        },
        "id": "5_7rW7j6JgBV",
        "outputId": "c5ecd882-1f98-4c9a-cdb4-c90436b741b6"
      },
      "execution_count": 6,
      "outputs": [
        {
          "output_type": "stream",
          "name": "stdout",
          "text": [
            "[0 0 0 0 0 0 0 0 0 0]\n"
          ]
        }
      ]
    },
    {
      "cell_type": "markdown",
      "source": [
        "*   ***Array de solo unos***\n",
        "\n",
        "Para hacer un array de solo unos se usa el método `ones`."
      ],
      "metadata": {
        "id": "BNYb9xwUKCSp"
      }
    },
    {
      "cell_type": "code",
      "source": [
        "#   Arreglo de 6 unos de tipo float\n",
        "a = np.ones(6, dtype=float)\n",
        "\n",
        "print(a)"
      ],
      "metadata": {
        "colab": {
          "base_uri": "https://localhost:8080/",
          "height": 0
        },
        "id": "qGUBRdC0KYAI",
        "outputId": "84851e96-ac0e-4624-9857-1cc028afd867"
      },
      "execution_count": 10,
      "outputs": [
        {
          "output_type": "stream",
          "name": "stdout",
          "text": [
            "[1. 1. 1. 1. 1. 1.]\n"
          ]
        }
      ]
    },
    {
      "cell_type": "markdown",
      "source": [
        "Para hacer arrays multidimensionales, en vez de pasar un entero, se pasa una tupla `(n, m)`, donde `n` es el número de filas y `m` el número de columnas."
      ],
      "metadata": {
        "id": "ToF3M0UxK4Mm"
      }
    },
    {
      "cell_type": "code",
      "source": [
        "#   Matriz 3x4 de ceros de tipo float\n",
        "a = np.zeros((3, 4), dtype=float)\n",
        "\n",
        "print(a)"
      ],
      "metadata": {
        "colab": {
          "base_uri": "https://localhost:8080/",
          "height": 0
        },
        "id": "d43E4U7uLXYT",
        "outputId": "1e30b570-981a-492c-83d6-66b90e31fbc7"
      },
      "execution_count": 12,
      "outputs": [
        {
          "output_type": "stream",
          "name": "stdout",
          "text": [
            "[[0. 0. 0. 0.]\n",
            " [0. 0. 0. 0.]\n",
            " [0. 0. 0. 0.]]\n"
          ]
        }
      ]
    },
    {
      "cell_type": "markdown",
      "source": [
        "*   ***Rellenar un array***\n",
        "\n",
        "Para rellenar un array de un solo elemento usamos el método `full`."
      ],
      "metadata": {
        "id": "jOP8JcysLuiP"
      }
    },
    {
      "cell_type": "code",
      "source": [
        "#   Matriz 2x4 de pi\n",
        "a = np.full((2, 4), 3.141592)\n",
        "\n",
        "print(a)"
      ],
      "metadata": {
        "colab": {
          "base_uri": "https://localhost:8080/",
          "height": 0
        },
        "id": "JNNYUqSlMBdz",
        "outputId": "b7606bd5-2a42-41e0-9244-c30708d4fdc6"
      },
      "execution_count": 14,
      "outputs": [
        {
          "output_type": "stream",
          "name": "stdout",
          "text": [
            "[[3.141592 3.141592 3.141592 3.141592]\n",
            " [3.141592 3.141592 3.141592 3.141592]]\n"
          ]
        }
      ]
    },
    {
      "cell_type": "markdown",
      "source": [
        "*   ***Array de una secuencia lineal***\n",
        "\n",
        "Para hacer lo equivalente a esto\n",
        "\n",
        "```\n",
        "lista = list(range(a, b, c))\n",
        "```\n",
        "usamos el método `arange`.\n"
      ],
      "metadata": {
        "id": "N5_0yGUOMayI"
      }
    },
    {
      "cell_type": "code",
      "source": [
        "#   Arreglo de números pares del 2 al 20\n",
        "a = np.arange(2, 21, 2)\n",
        "\n",
        "print(a)"
      ],
      "metadata": {
        "colab": {
          "base_uri": "https://localhost:8080/",
          "height": 0
        },
        "id": "HzQaP5iBNMXL",
        "outputId": "a1794d45-4759-4ee9-87c2-4bf478c3bd17"
      },
      "execution_count": 15,
      "outputs": [
        {
          "output_type": "stream",
          "name": "stdout",
          "text": [
            "[ 2  4  6  8 10 12 14 16 18 20]\n"
          ]
        }
      ]
    },
    {
      "cell_type": "markdown",
      "source": [
        "*   ***Array de elementos uniformemente espaciados***\n",
        "\n",
        "Para hacer lo equivalente a esto\n",
        "\n",
        "```\n",
        "# intervalo [ini, fin] y n el número de divisiones del intervalo\n",
        "esp = lambda x: x * (fin - ini) / n + ini\n",
        "lista = [esp(i) for i in range(n + 1)]\n",
        "\n",
        "```\n",
        "se usa el método `linspace`."
      ],
      "metadata": {
        "id": "EBuPiHM5NxL9"
      }
    },
    {
      "cell_type": "code",
      "source": [
        "#   Arreglo de las particiones del intervalo [3, 5] dividido en 10 partes\n",
        "a = np.linspace(3, 5, 10)\n",
        "\n",
        "print(a)"
      ],
      "metadata": {
        "colab": {
          "base_uri": "https://localhost:8080/",
          "height": 0
        },
        "id": "OEWUcbrCOr99",
        "outputId": "4bebd5ec-d483-4614-b5d5-150b62e04319"
      },
      "execution_count": 16,
      "outputs": [
        {
          "output_type": "stream",
          "name": "stdout",
          "text": [
            "[3.         3.22222222 3.44444444 3.66666667 3.88888889 4.11111111\n",
            " 4.33333333 4.55555556 4.77777778 5.        ]\n"
          ]
        }
      ]
    },
    {
      "cell_type": "markdown",
      "source": [
        "*   ***Arreglo de números aleatorios uniformemente distribuidos***\n",
        "\n",
        "Para hacer un arreglo de números aleatorios uniformemente distribuidos $\\operatorname{U}(0, 1)$ usamos el método `random.random`."
      ],
      "metadata": {
        "id": "8c2FctoiPsFn"
      }
    },
    {
      "cell_type": "code",
      "source": [
        "#   Matriz 2x4 de números aleatorios entre 0 y 1\n",
        "a = np.random.random((2, 4))\n",
        "\n",
        "print(a)"
      ],
      "metadata": {
        "colab": {
          "base_uri": "https://localhost:8080/",
          "height": 0
        },
        "id": "QuB5kcZ4QPKk",
        "outputId": "0a78e875-764a-4465-b391-3b3ba0c17ede"
      },
      "execution_count": 17,
      "outputs": [
        {
          "output_type": "stream",
          "name": "stdout",
          "text": [
            "[[0.08863705 0.88837117 0.38311975 0.87426352]\n",
            " [0.2284403  0.37018738 0.37437495 0.16155555]]\n"
          ]
        }
      ]
    },
    {
      "cell_type": "markdown",
      "source": [
        "*   ***Arreglo de números aleatorios normalmente distribuidos***\n",
        "\n",
        "Para hacer un arreglo de números aleatorios normalmente distribuidos $\\operatorname{N}(\\mu, \\sigma)$ se usa el método `random.normal`."
      ],
      "metadata": {
        "id": "_KSLvDWGQqM8"
      }
    },
    {
      "cell_type": "code",
      "source": [
        "#   Matriz 3x3 de números aleatorios normalmente distribuidos\n",
        "#   con media 0 y desviación estándar 1\n",
        "a = np.random.normal(0, 1, (3, 3))\n",
        "\n",
        "print(a)"
      ],
      "metadata": {
        "colab": {
          "base_uri": "https://localhost:8080/",
          "height": 0
        },
        "id": "fZb5Uf1lQ8Fh",
        "outputId": "84138675-cc70-477a-a302-db3087dcef40"
      },
      "execution_count": 18,
      "outputs": [
        {
          "output_type": "stream",
          "name": "stdout",
          "text": [
            "[[-1.21245016 -1.53502252 -0.04435596]\n",
            " [-0.15636962 -1.40840114  0.26758218]\n",
            " [ 0.05230651  0.04983219 -0.44558173]]\n"
          ]
        }
      ]
    },
    {
      "cell_type": "markdown",
      "source": [
        "*   ***Arreglo de números aleatorios enteros uniformemente distribuidos***\n",
        "\n",
        "Para hacer una arreglo de números aleatorios enteros uniformemente distribuidos $\\operatorname{U}(a, b)$ se usa el método `random.randint`."
      ],
      "metadata": {
        "id": "1numwMTFRhDR"
      }
    },
    {
      "cell_type": "code",
      "source": [
        "#   Matriz 4x1 de enteros aleatorios entre el 4 y el 20\n",
        "a = np.random.randint(4, 20, (4, 2))\n",
        "\n",
        "print(a)"
      ],
      "metadata": {
        "colab": {
          "base_uri": "https://localhost:8080/",
          "height": 0
        },
        "id": "0JDhY9OiSXi0",
        "outputId": "0ea16dbf-bc56-4ed9-e759-748e115ba1d5"
      },
      "execution_count": 30,
      "outputs": [
        {
          "output_type": "stream",
          "name": "stdout",
          "text": [
            "[[10 16]\n",
            " [12  5]\n",
            " [ 4 18]\n",
            " [15  8]]\n"
          ]
        }
      ]
    },
    {
      "cell_type": "markdown",
      "source": [
        "*   ***Matriz identidad***\n",
        "\n",
        "Para hacer la matriz identidad $I_{n}$ se usa el método `eye`."
      ],
      "metadata": {
        "id": "00q5LkKEReRR"
      }
    },
    {
      "cell_type": "code",
      "source": [
        "#   Matriz identidad 3x3 de tipo entero\n",
        "a = np.eye(4, dtype=int)\n",
        "\n",
        "print(a)"
      ],
      "metadata": {
        "colab": {
          "base_uri": "https://localhost:8080/",
          "height": 0
        },
        "id": "ON5Cr40pTUZr",
        "outputId": "c2918eca-d3bd-4b91-ef46-ed89ee833469"
      },
      "execution_count": 24,
      "outputs": [
        {
          "output_type": "stream",
          "name": "stdout",
          "text": [
            "[[1 0 0 0]\n",
            " [0 1 0 0]\n",
            " [0 0 1 0]\n",
            " [0 0 0 1]]\n"
          ]
        }
      ]
    },
    {
      "cell_type": "markdown",
      "source": [
        "*   ***Arreglo no inicializado***\n",
        "\n",
        "Para hacer un arreglo sin darle valores explícitos y solo su tamaño usamos el método `empty`."
      ],
      "metadata": {
        "id": "KlOb6QfbUUbn"
      }
    },
    {
      "cell_type": "code",
      "source": [
        "#   Matriz 2x3 no inicializado (usa los valores que están en la memoria)\n",
        "a = np.empty((2, 3), dtype=int)\n",
        "\n",
        "print(a)"
      ],
      "metadata": {
        "colab": {
          "base_uri": "https://localhost:8080/",
          "height": 0
        },
        "id": "TcuhgKoSU_gX",
        "outputId": "45509230-1c83-44c3-c786-bf5b17b88749"
      },
      "execution_count": 27,
      "outputs": [
        {
          "output_type": "stream",
          "name": "stdout",
          "text": [
            "[[4607182418800017408 4607182418800017408 4607182418800017408]\n",
            " [4607182418800017408 4607182418800017408 4607182418800017408]]\n"
          ]
        }
      ]
    },
    {
      "cell_type": "markdown",
      "source": [
        "\n",
        "\n",
        "---\n",
        "\n",
        "\n",
        "\n",
        "---\n",
        "\n",
        "\n",
        "# Tipos de datos admitidos\n",
        "Los métodos de `NumPy` usan el parámetro `dtype`. Para especificar el tipo lo podemos hacer con string\n",
        "\n",
        "```\n",
        "np.empty(1, dtype='float16')\n",
        "```\n",
        "o con objeto `NumPy`\n",
        "\n",
        "```\n",
        "np.empty(1, dtype=np.float16)\n",
        "```\n",
        "\n",
        "| Tipo de dato | Descripción                      |\n",
        "|--------------|----------------------------------|\n",
        "| `bool`        | Booleano                         |\n",
        "| `int`         | Entero                           |\n",
        "| intc         | Entero en C                      |\n",
        "| intp         | Entero para índices              |\n",
        "| int8         | Entero de 8 bits                 |\n",
        "| int16        | Entero de 16 bits                |\n",
        "| int32        | Entero de 32 bits                |\n",
        "| int64        | Entero de 64 bits                |\n",
        "| uint8        | Entero sin signo de 8 bits       |\n",
        "| uint16       | Entero sin signo de 16 bits      |\n",
        "| uint32       | Entero sin signo de 32 bits      |\n",
        "| uint64       | Entero sin signo de 64 bits      |\n",
        "| `float`       | Float                            |\n",
        "| float16      | Float de 16 bits                 |\n",
        "| float32      | Float de 32 bits                 |\n",
        "| float64      | Float de 64 bits                 |\n",
        "| `complex`     | Complejo                         |\n",
        "| complex64    | Complejo de 32($\\Re$) + 32($\\Im$) bits |\n",
        "| complex128   | Complejo de 64($\\Re$) + 64($\\Im$) bits |"
      ],
      "metadata": {
        "id": "FLAZrMR7VRb6"
      }
    }
  ]
}